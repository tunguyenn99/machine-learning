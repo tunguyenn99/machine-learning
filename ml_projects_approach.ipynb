{
 "cells": [
  {
   "cell_type": "markdown",
   "metadata": {},
   "source": [
    "## How to Approach Machine Learning Projects\n",
    "\n",
    "Đây là notebook follow theo [Zero to Data Science Bootcamp by Jovian](https://zerotodatascience.com).\n",
    "\n",
    "<img src=\"https://i.imgur.com/kKdAALX.png\" width=800>"
   ]
  },
  {
   "cell_type": "markdown",
   "metadata": {},
   "source": [
    "Các bước tiếp cận 1 dự án ML:\n",
    "\n",
    "1. Hiểu business requirements và bản chất sẵn có của data\n",
    "\n",
    "2. Phân loại các vấn đề theo supervised/unsupervised và regression/classification\n",
    "\n",
    "3. Load, clean, EDA và feature engineering\n",
    "\n",
    "4. Tạo Train - Validation - Test và chuẩn bị data để train model\n",
    "\n",
    "5. Khởi tạo 1 baseline model (nhanh gọn và dễ dàng) để đánh giá, benchmark các models trong tương lai\n",
    "\n",
    "6. Chọn 1 model strategy, train model và tune hyperparameters để có được best-fit.\n",
    "\n",
    "7. Thử nghiệm và kết hợp các kết quả từ nhiều strategy khác nhau để có được kết quả tốt hơn (Regularization - Ensembling)\n",
    "\n",
    "    - Regularization: L1 Lasso, L2 Ridge, Elastic net\n",
    "\n",
    "    - Ensembling: Bagging (các mô hình học độc lập và aggregate kết quả với nhau - Random Forest), Boosting (Chuỗi học tập, mỗi model mới sửa lỗi model cũ - AdaBoost, Gradient Boosting, XGBoost), Stacking (Sử dụng các loại mô hình khác nhau + sử dụng 1 mô hình meta để tìm cách tốt nhất để kết hợp các prediction từ các mô hình cơ sở )\n",
    "\n",
    "8. Diễn giải mô hình, nghiên cứu từng dự đoán và presentations"
   ]
  },
  {
   "cell_type": "markdown",
   "metadata": {},
   "source": [
    "## Step 1 - Understand Business Requirements & Nature of Data\n",
    "\n",
    "<img src=\"https://i.imgur.com/63XEArk.png\" width=\"640\">\n",
    "\n",
    "\n",
    "Most machine learning models are trained to serve a real-world use case. It's important to understand the business requirements, modeling objectives and the nature of the data available before you start building a machine learning model."
   ]
  },
  {
   "cell_type": "markdown",
   "metadata": {},
   "source": [
    "## Step 2 - Classify the problem as supervised/unsupervised & regression/classification\n",
    "\n",
    "<img src=\"https://i.imgur.com/rqt2A7F.png\" width=\"640\">\n",
    "\n",
    "Dưới đây là 1 sơ đồ phân chia các loại mô hình trong ML:\n",
    "\n",
    "<img src=\"https://i.imgur.com/VbVFAsg.png\" width=\"640\">"
   ]
  },
  {
   "cell_type": "markdown",
   "metadata": {},
   "source": [
    "### Loss Functions and Evaluation Metrics\n",
    "\n",
    "Tùy thuộc vào loại mô hình, sẽ có những **loss function** phù hợp để đánh giá\n",
    "\n",
    "* **Evaluation metrics** - Sử dụng bởi con người để đánh giá\n",
    "\n",
    "* **Loss functions** - Sử dụng bởi máy tính để đánh giá\n",
    "\n",
    "Thông thường chúng giống nhau trong các bài toán:\n",
    "\n",
    "- Regression:\n",
    "\n",
    "    #1 — RMSE (Root Mean Squared Error)\n",
    "\n",
    "    #2 — RMSLE (Root Mean Squared Logarithmic Error)\n",
    "\n",
    "    #3 — MAE (Mean Absolute Error)\n",
    "\n",
    "    #4 — R-Squared (R²)\n",
    "\n",
    "- Classification: \n",
    "\n",
    "    #5 — Accuracy and Error Rate\n",
    "\n",
    "    #6 — Precision and Recall\n",
    "\n",
    "    #7 — F1-Score and Fbeta-Score\n",
    "\n",
    "    #8 — MCC (Matthews Correlation Coefficient)\n",
    "\n",
    "    #9 — Balanced Accuracy\n",
    "\n",
    "    #10 — Log Loss (or Cross Entropy or Negative Log-Likelihood)\n",
    "\n",
    "    #11 — AUCROC (Area Under the Receiver Operating Characteristic Curve)\n",
    "\n",
    "Xem thêm tại đây: https://towardsdatascience.com/11-evaluation-metrics-data-scientists-should-be-familiar-with-lessons-from-a-high-rank-kagglers-8596f75e58a7"
   ]
  },
  {
   "cell_type": "markdown",
   "metadata": {},
   "source": [
    "#### Regression loss function"
   ]
  },
  {
   "cell_type": "code",
   "execution_count": 4,
   "metadata": {},
   "outputs": [
    {
     "data": {
      "text/plain": [
       "0.5272570530585626"
      ]
     },
     "execution_count": 4,
     "metadata": {},
     "output_type": "execute_result"
    }
   ],
   "source": [
    "# RMSE\n",
    "import numpy as np\n",
    "from sklearn.metrics import mean_squared_error\n",
    "\n",
    "y_true = [1.0, 1.5, 2.0, 2.5, 3.0]\n",
    "y_pred = [0.9, 1.7, 3.0, 2.0, 2.7]\n",
    "\n",
    "rmse = np.sqrt(mean_squared_error(y_true, y_pred))\n",
    "rmse"
   ]
  },
  {
   "cell_type": "code",
   "execution_count": 5,
   "metadata": {},
   "outputs": [
    {
     "data": {
      "text/plain": [
       "0.15566336290314164"
      ]
     },
     "execution_count": 5,
     "metadata": {},
     "output_type": "execute_result"
    }
   ],
   "source": [
    "# RMSLE\n",
    "import numpy as np\n",
    "from sklearn.metrics import mean_squared_error\n",
    "\n",
    "y_true = [1.0, 1.5, 2.0, 2.5, 3.0]\n",
    "y_pred = [0.9, 1.7, 3.0, 2.0, 2.7]\n",
    "\n",
    "rmsle = np.sqrt(mean_squared_error(np.log1p(y_true), np.log1p(y_pred)))\n",
    "rmsle"
   ]
  },
  {
   "cell_type": "code",
   "execution_count": 6,
   "metadata": {},
   "outputs": [
    {
     "data": {
      "text/plain": [
       "0.41999999999999993"
      ]
     },
     "execution_count": 6,
     "metadata": {},
     "output_type": "execute_result"
    }
   ],
   "source": [
    "# MAE\n",
    "from sklearn.metrics import mean_absolute_error\n",
    "\n",
    "y_true = [1.0, 1.5, 2.0, 2.5, 3.0]\n",
    "y_pred = [0.9, 1.7, 3.0, 2.0, 2.7]\n",
    "\n",
    "mae = mean_absolute_error(y_true, y_pred)\n",
    "mae"
   ]
  },
  {
   "cell_type": "markdown",
   "metadata": {},
   "source": [
    "#### Classification loss function"
   ]
  },
  {
   "cell_type": "code",
   "execution_count": 7,
   "metadata": {},
   "outputs": [
    {
     "data": {
      "text/plain": [
       "0.625"
      ]
     },
     "execution_count": 7,
     "metadata": {},
     "output_type": "execute_result"
    }
   ],
   "source": [
    "from sklearn.metrics import accuracy_score\n",
    "\n",
    "y_true = [1, 0, 1, 1, 0, 1, 1, 0]\n",
    "y_pred = [0, 0, 1, 1, 0, 0, 1, 1]\n",
    "\n",
    "accuracy = accuracy_score(y_true, y_pred)\n",
    "accuracy"
   ]
  },
  {
   "cell_type": "code",
   "execution_count": 9,
   "metadata": {},
   "outputs": [
    {
     "data": {
      "text/plain": [
       "(0.75, 0.6)"
      ]
     },
     "execution_count": 9,
     "metadata": {},
     "output_type": "execute_result"
    }
   ],
   "source": [
    "from sklearn.metrics import precision_score, recall_score\n",
    "\n",
    "y_true = [1, 0, 1, 1, 0, 1, 1, 0]\n",
    "y_pred = [0, 0, 1, 1, 0, 0, 1, 1]\n",
    "\n",
    "precision, recall = precision_score(y_true, y_pred), recall_score(y_true, y_pred)\n",
    "precision, recall"
   ]
  },
  {
   "cell_type": "code",
   "execution_count": 10,
   "metadata": {},
   "outputs": [
    {
     "data": {
      "text/plain": [
       "(0.6666666666666666, 0.625)"
      ]
     },
     "execution_count": 10,
     "metadata": {},
     "output_type": "execute_result"
    }
   ],
   "source": [
    "from sklearn.metrics import f1_score, fbeta_score\n",
    "\n",
    "y_true = [1, 0, 1, 1, 0, 1, 1, 0]\n",
    "y_pred = [0, 0, 1, 1, 0, 0, 1, 1]\n",
    "\n",
    "f1, fbeta = f1_score(y_true, y_pred), fbeta_score(y_true, y_pred, beta=2)\n",
    "f1, fbeta"
   ]
  },
  {
   "cell_type": "code",
   "execution_count": 12,
   "metadata": {},
   "outputs": [
    {
     "data": {
      "text/plain": [
       "(0.2581988897471611, 0.2581988897471611)"
      ]
     },
     "execution_count": 12,
     "metadata": {},
     "output_type": "execute_result"
    }
   ],
   "source": [
    "from sklearn.metrics import matthews_corrcoef\n",
    "\n",
    "y_true = [1, 0, 1, 1, 0, 1, 1, 0]\n",
    "y_pred = [0, 0, 1, 1, 0, 0, 1, 1]\n",
    "\n",
    "y_true_swap = [0, 1, 0, 0, 1, 0, 0, 1]\n",
    "y_pred_swap = [1, 1, 0, 0, 1, 1, 0, 0]\n",
    "\n",
    "mcc = matthews_corrcoef(y_true, y_pred)\n",
    "mcc_swap = matthews_corrcoef(y_true_swap, y_pred_swap)\n",
    "\n",
    "mcc, mcc_swap"
   ]
  },
  {
   "cell_type": "code",
   "execution_count": 15,
   "metadata": {},
   "outputs": [
    {
     "data": {
      "text/plain": [
       "0.625"
      ]
     },
     "execution_count": 15,
     "metadata": {},
     "output_type": "execute_result"
    }
   ],
   "source": [
    "from sklearn.metrics import balanced_accuracy_score\n",
    "\n",
    "y_true = [0, 1, 0, 0, 1, 0]\n",
    "y_pred = [0, 1, 0, 0, 0, 1]\n",
    "balanced_accuracy_score(y_true, y_pred)"
   ]
  },
  {
   "cell_type": "code",
   "execution_count": 14,
   "metadata": {},
   "outputs": [
    {
     "data": {
      "text/plain": [
       "0.5587726358412874"
      ]
     },
     "execution_count": 14,
     "metadata": {},
     "output_type": "execute_result"
    }
   ],
   "source": [
    "from sklearn.metrics import log_loss\n",
    "\n",
    "y_true =  [0, 1, 0, 0, 1, 0]\n",
    "y_proba = [0.1, 0.4, 0.8, 0.1, 0.9, 0.4]\n",
    "log_loss(y_true, y_proba)"
   ]
  },
  {
   "cell_type": "code",
   "execution_count": 16,
   "metadata": {},
   "outputs": [
    {
     "data": {
      "image/png": "[encoded data removed]",
      "text/plain": [
       "<Figure size 640x480 with 1 Axes>"
      ]
     },
     "metadata": {},
     "output_type": "display_data"
    },
    {
     "data": {
      "image/png": "[encoded data removed]",
      "text/plain": [
       "<Figure size 640x480 with 1 Axes>"
      ]
     },
     "metadata": {},
     "output_type": "display_data"
    }
   ],
   "source": [
    "from sklearn.metrics import roc_auc_score, roc_curve, auc\n",
    "import matplotlib.pyplot as plt\n",
    "\n",
    "\n",
    "def plotROC(y_true, y_proda):\n",
    "    fpr = dict()\n",
    "    tpr = dict()\n",
    "    threshold = dict()\n",
    "    roc_auc = dict()\n",
    "    for i in range(2):\n",
    "        fpr[i], tpr[i], threshold[i] = roc_curve(abs(np.array(y_true)-abs(i-1)),y_proba)\n",
    "        roc_auc[i] = auc(fpr[i], tpr[i])\n",
    "    plt.figure()\n",
    "    plt.plot(fpr[1], tpr[1], color='darkorange',\n",
    "             lw=1, label='ROC curve (area = %0.3f)' % roc_auc[1])\n",
    "    plt.plot([0, 1], [0, 1], color='navy', lw=1, linestyle='--')\n",
    "    plt.xlim([0.0, 1.0])\n",
    "    plt.ylim([0.0, 1.05])\n",
    "    plt.xlabel('False Positive Rate')\n",
    "    plt.ylabel('True Positive Rate')\n",
    "    plt.title('ROC Curve')\n",
    "    plt.legend(loc=\"lower right\")\n",
    "    plt.show()\n",
    "\n",
    "\n",
    "y_true =  [0, 1, 0, 0, 1, 0]\n",
    "y_proba = [0.1, 0.4, 0.8, 0.05, 0.9, 0.4]\n",
    "plotROC(y_true, y_proba)\n",
    "# AUCROC = 0.812\n",
    "\n",
    "# Change probability without changing the order.\n",
    "y_true =  [0, 1, 0, 0, 1, 0]\n",
    "y_proba = [0.3, 0.49, 0.5, 0.01, 0.99, 0.49]\n",
    "plotROC(y_true, y_proba)\n",
    "# AUCROC = 0.812"
   ]
  },
  {
   "cell_type": "markdown",
   "metadata": {},
   "source": [
    "## Step 4 - Create a training/test/validation split and prepare the data for training\n",
    "\n",
    "<img src=\"https://i.imgur.com/XZ9aP10.png\" width=\"640\">"
   ]
  },
  {
   "cell_type": "markdown",
   "metadata": {},
   "source": [
    "### Train/Test/Validation Split\n",
    "\n",
    "Tỉ trọng train / valid / test:\n",
    "\n",
    "- Chưa có test riêng: 60 - 20 - 20\n",
    "\n",
    "- Đã có test riêng: 75 - 25 - test"
   ]
  },
  {
   "cell_type": "markdown",
   "metadata": {},
   "source": [
    "## Step 5 - Create quick & easy baseline models to benchmark future models\n",
    "\n",
    "<img src=\"https://i.imgur.com/1DLgiEz.png\" width=\"640\">"
   ]
  },
  {
   "cell_type": "code",
   "execution_count": 1,
   "metadata": {},
   "outputs": [],
   "source": [
    "def return_mean(inputs):\n",
    "    return np.full(len(inputs), df['target'].mean())"
   ]
  },
  {
   "cell_type": "markdown",
   "metadata": {},
   "source": [
    "## Step 6 - Pick a strategy, train a model & tune hyperparameters\n",
    "\n",
    "<img src=\"https://i.imgur.com/aRuE5mw.png\" width=\"640\">"
   ]
  },
  {
   "cell_type": "code",
   "execution_count": null,
   "metadata": {},
   "outputs": [],
   "source": [
    "def try_model(model):\n",
    "    # Fit the model\n",
    "    model.fit(X_train, train_targets)\n",
    "    \n",
    "    # Generate predictions\n",
    "    train_preds = model.predict(X_train)\n",
    "    val_preds = model.predict(X_val)\n",
    "    \n",
    "    # Compute RMSE\n",
    "    train_rmse = mean_squared_error(train_targets, train_preds, squared=False)\n",
    "    val_rmse = mean_squared_error(val_targets, val_preds, squared=False)\n",
    "    return train_rmse, val_rmse"
   ]
  },
  {
   "cell_type": "markdown",
   "metadata": {},
   "source": [
    "Hoặc tạo 1 df lưu trữ thông tin kết quả"
   ]
  },
  {
   "cell_type": "code",
   "execution_count": null,
   "metadata": {},
   "outputs": [],
   "source": [
    "import pandas as pd\n",
    "from sklearn.metrics import mean_squared_error\n",
    "import numpy as np\n",
    "\n",
    "# Hàm tính RMSE\n",
    "def root_mean_squared_error(y_true, y_pred):\n",
    "    return np.sqrt(mean_squared_error(y_true, y_pred))\n",
    "\n",
    "# Hàm để thử mô hình và lưu trữ kết quả vào DataFrame\n",
    "def try_model(model, model_name, results_df):\n",
    "    # Fit the model\n",
    "    model.fit(X_train, train_targets)\n",
    "    \n",
    "    # Generate predictions\n",
    "    train_preds = model.predict(X_train)\n",
    "    val_preds = model.predict(X_val)\n",
    "    \n",
    "    # Compute RMSE\n",
    "    train_rmse = root_mean_squared_error(train_targets, train_preds)\n",
    "    val_rmse = root_mean_squared_error(val_targets, val_preds)\n",
    "    \n",
    "    # Thêm kết quả vào DataFrame\n",
    "    results_df = results_df.append({\n",
    "        'Model': model_name,\n",
    "        'Train RMSE': train_rmse,\n",
    "        'Validation RMSE': val_rmse\n",
    "    }, ignore_index=True)\n",
    "    \n",
    "    return results_df\n",
    "\n",
    "# Tạo DataFrame trống để lưu trữ kết quả\n",
    "results_df = pd.DataFrame(columns=['Model', 'Train RMSE', 'Validation RMSE'])\n",
    "\n",
    "# Ví dụ sử dụng hàm với các mô hình khác nhau\n",
    "from sklearn.linear_model import LinearRegression\n",
    "from sklearn.ensemble import RandomForestRegressor\n",
    "\n",
    "models = {\n",
    "    'Linear Regression': LinearRegression(),\n",
    "    'Random Forest': RandomForestRegressor()\n",
    "}\n",
    "\n",
    "for model_name, model in models.items():\n",
    "    results_df = try_model(model, model_name, results_df)\n",
    "\n",
    "print(results_df)"
   ]
  },
  {
   "cell_type": "markdown",
   "metadata": {},
   "source": [
    "## Step 7 - Experiment and combine results from multiple strategies\n",
    "\n",
    "<img src=\"https://i.imgur.com/ZqM6R8w.png\" width=\"640\">"
   ]
  },
  {
   "cell_type": "markdown",
   "metadata": {},
   "source": [
    "In general, the following strategies can be used to improve the performance of a model:\n",
    "\n",
    "- Gather more data. A greater amount of data can let you learn more relationships and generalize the model better.\n",
    "- Include more features. The more relevant the features for predicting the target, the better the model gets.\n",
    "- Tune the hyperparameters of the model. Increase the capacity of the model while ensuring that it doesn't overfit.\n",
    "- Look at the specific examples where the model make incorrect or bad predictions and gather some insights\n",
    "- Try strategies like grid search for hyperparameter optimization and K-fold cross validation\n",
    "- Combine results from different types of models (ensembling), or train another model using their results."
   ]
  },
  {
   "cell_type": "markdown",
   "metadata": {},
   "source": [
    "### Hyperparameter Optimization & Grid Search\n",
    "\n",
    "You can tune hyperparameters manually, our use an automated tuning strategy like random search or Grid search. Follow this tutorial for hyperparameter tuning using Grid search: https://machinelearningmastery.com/hyperparameter-optimization-with-random-search-and-grid-search/\n",
    "\n",
    "<img src=\"https://i.imgur.com/EJCrSZw.png\" width=\"480\">"
   ]
  },
  {
   "cell_type": "markdown",
   "metadata": {},
   "source": [
    "### K-Fold Cross Validation\n",
    "\n",
    "\n",
    "Here's what K-fold cross validation looks like visually ([source](https://vitalflux.com/k-fold-cross-validation-python-example/)):\n",
    "\n",
    "<img src=\"https://i.imgur.com/MxnzWwT.png\" width=\"480\">\n",
    "\n",
    "Follow this tutorial to apply K-fold cross validation: https://machinelearningmastery.com/repeated-k-fold-cross-validation-with-python/"
   ]
  },
  {
   "cell_type": "markdown",
   "metadata": {},
   "source": [
    "### Ensembling and Stacking\n",
    "\n",
    "Ensembling refers to combining the results of multiple models. Here's what ensembling looks like visually([source](https://www.kdnuggets.com/2019/01/ensemble-learning-5-main-approaches.html)):\n",
    "\n",
    "<img src=\"https://i.imgur.com/rrOKVEd.png\" width=\"480\">\n"
   ]
  },
  {
   "cell_type": "markdown",
   "metadata": {},
   "source": [
    "Stacking is a more advanced version of ensembling, where we train another model using the results from multiple models. Here's what stacking looks like visually ([source](https://medium.com/ml-research-lab/stacking-ensemble-meta-algorithms-for-improve-predictions-f4b4cf3b9237)): \n",
    "\n",
    "<img src=\"https://i.imgur.com/VVzCWNB.png\" width=\"400\">\n",
    "\n",
    "Here's a tutorial on stacking: https://machinelearningmastery.com/stacking-ensemble-machine-learning-with-python/"
   ]
  },
  {
   "cell_type": "markdown",
   "metadata": {},
   "source": [
    "## Step 8 - Interpret models, study individual predictions & present your findings\n",
    "\n",
    "<img src=\"https://i.imgur.com/9axhOrA.png\" width=\"640\">"
   ]
  },
  {
   "cell_type": "markdown",
   "metadata": {},
   "source": [
    "### Feature Importance\n",
    "\n",
    "You'll need to explain why your model returns a particular result. Most scikit-learn models offer some kind of \"feature importance\" score."
   ]
  },
  {
   "cell_type": "markdown",
   "metadata": {},
   "source": [
    "### Presenting your results\n",
    "\n",
    "* Create a presentation for non-technical stakeholders\n",
    "* Understand your audience - figure out what they care about most\n",
    "* Avoid showing any code or technical jargon, include visualizations\n",
    "* Focus on metrics that are relevant for the business\n",
    "* Talk about feature importance and how to interpret results\n",
    "* Explain the strengths and limitations of the model\n",
    "* Explain how the model can be improved over time"
   ]
  },
  {
   "cell_type": "markdown",
   "metadata": {},
   "source": [
    "## Summary and References\n",
    "\n",
    "![](https://i.imgur.com/kKdAALX.png)\n",
    "\n",
    "Here's the summary of the step-by-step process you should follow to approach any machine learning problem:\n",
    "\n",
    "1. Understand the business requirements and the nature of the available data.\n",
    "2. Classify the problem as supervised/unsupervised and regression/classification.\n",
    "3. Download, clean & explore the data and create new features that may improve models.\n",
    "4. Create training/test/validation sets and prepare the data for training ML models.\n",
    "5. Create a quick & easy baseline model to evaluate and benchmark future models.\n",
    "5. Pick a modeling strategy, train a model, and tune hyperparameters to achieve optimal fit.\n",
    "6. Experiment and combine results from multiple strategies to get a better overall result.\n",
    "7. Interpret models, study individual predictions, and present your findings. \n",
    "\n",
    "\n",
    "Check out the following resources to learn more:\n",
    "\n",
    "- https://vas3k.com/blog/machine_learning/\n",
    "- https://github.com/abhishekkrthakur/approachingalmost\n",
    "- https://scikit-learn.org/stable/\n",
    "- https://github.com/microsoft/ML-For-Beginners"
   ]
  },
  {
   "cell_type": "markdown",
   "metadata": {},
   "source": [
    "## Revision Questions\n",
    "1.\tWhat are the steps involved in approaching a machine learning problem?\n",
    "2.\tWhat does problem identification mean?\n",
    "3.\tWhat is a loss function? Explain different loss functions.\n",
    "4.\tWhat is an evaluation metric? Explain different evaluation metrics.\n",
    "5.\tWhat is feature engineering?\n",
    "6.\tHow does feature engineering help in building a better model?\n",
    "7.\tWhat is a baseline model?\n",
    "8.\tWhat is a hard-coded strategy?\n",
    "9.\tWhat are linear models?\n",
    "10.\tWhat are tree based models?\n",
    "11.\tWhat are some unsupervised machine learning problems?\n",
    "12.\tWhat are some strategies used to improve the performance of a model?\n",
    "13.\tWhat is grid-search?\n",
    "14.\tWhat is K-fold cross validation?\n",
    "15.\tWhat is ensembling? What are some ensemble methods?\n",
    "16.\tHow does ensembling help in making better predictions?\n",
    "17.\tWhat is stacking?\n",
    "18.\tHow does stacking help in making better predictions?\n",
    "19.\tWhat is model deployment?\n",
    "20.\tWhat are some model deployment frameworks? "
   ]
  }
 ],
 "metadata": {
  "kernelspec": {
   "display_name": "Python 3",
   "language": "python",
   "name": "python3"
  },
  "language_info": {
   "codemirror_mode": {
    "name": "ipython",
    "version": 3
   },
   "file_extension": ".py",
   "mimetype": "text/x-python",
   "name": "python",
   "nbconvert_exporter": "python",
   "pygments_lexer": "ipython3",
   "version": "3.11.7"
  }
 },
 "nbformat": 4,
 "nbformat_minor": 2
}
