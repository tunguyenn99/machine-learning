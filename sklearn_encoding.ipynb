{
 "cells": [
  {
   "cell_type": "markdown",
   "metadata": {},
   "source": [
    "### ENCODER IN SKLEARN"
   ]
  },
  {
   "cell_type": "markdown",
   "metadata": {},
   "source": [
    "Trong thư viện scikit-learn (sklearn), có một số encoder phổ biến mà bạn có thể sử dụng để chuyển đổi dữ liệu trước khi áp dụng các thuật toán học máy. Dưới đây là một số encoder phổ biến cùng với ví dụ sử dụng của chúng:\n",
    "\n",
    "Xem thêm clip dưới đây để hiểu: https://www.youtube.com/watch?v=589nCGeWG1w\n",
    "\n",
    "<img src=\"https://pbs.twimg.com/tweet_video_thumb/GQvtU92WEAANbq5.jpg\" width=600>"
   ]
  },
  {
   "cell_type": "markdown",
   "metadata": {},
   "source": [
    "### `OneHotEncoder`: Dùng để mã hóa các biến phân loại thành các vector nhị phân.\n",
    "\n",
    "Lưu ý: Không nên sử dụng với cột có nhiều categories, dẫn đến overfit"
   ]
  },
  {
   "cell_type": "code",
   "execution_count": 8,
   "metadata": {},
   "outputs": [
    {
     "name": "stdout",
     "output_type": "stream",
     "text": [
      "[[0. 0. 1.]\n",
      " [1. 0. 0.]\n",
      " [0. 1. 0.]]\n"
     ]
    }
   ],
   "source": [
    "from sklearn.preprocessing import OneHotEncoder\n",
    "import numpy as np\n",
    "\n",
    "encoder = OneHotEncoder(sparse_output=False)\n",
    "categories = np.array([['red'], ['blue'], ['green']])\n",
    "one_hot_encoded = encoder.fit_transform(categories)\n",
    "print(one_hot_encoded)"
   ]
  },
  {
   "cell_type": "markdown",
   "metadata": {},
   "source": [
    "### `HashEncoder`: \n",
    "\n",
    "Gây mất thông tin"
   ]
  },
  {
   "cell_type": "code",
   "execution_count": null,
   "metadata": {},
   "outputs": [],
   "source": []
  },
  {
   "cell_type": "markdown",
   "metadata": {},
   "source": [
    "### `LabelEncoder`: Dùng để mã hóa các nhãn (labels) của dữ liệu phân loại thành các số nguyên."
   ]
  },
  {
   "cell_type": "code",
   "execution_count": null,
   "metadata": {},
   "outputs": [
    {
     "name": "stdout",
     "output_type": "stream",
     "text": [
      "[2 0 1 0 1]\n"
     ]
    }
   ],
   "source": [
    "from sklearn.preprocessing import LabelEncoder\n",
    "\n",
    "le = LabelEncoder()\n",
    "labels = ['red', 'blue', 'green', 'blue', 'green']\n",
    "encoded_labels = le.fit_transform(labels)\n",
    "print(encoded_labels)"
   ]
  },
  {
   "cell_type": "markdown",
   "metadata": {},
   "source": [
    "### `Target Encoder` là một phương pháp mã hóa biến phân loại dựa trên giá trị của biến mục tiêu (target variable). Đặc biệt hữu ích trong các bài toán phân loại, target encoding chuyển đổi các giá trị của biến phân loại thành giá trị trung bình của biến mục tiêu tương ứng.\n",
    "\n",
    "<img src=\"https://brendanhasz.github.io/assets/img/target-encoding/cross-fold.gif\" style='background-color: white;' width=500>\n"
   ]
  },
  {
   "cell_type": "code",
   "execution_count": 13,
   "metadata": {},
   "outputs": [
    {
     "name": "stdout",
     "output_type": "stream",
     "text": [
      "      color\n",
      "0  0.500000\n",
      "1  0.429074\n",
      "2  0.570926\n",
      "3  0.429074\n",
      "4  0.570926\n",
      "5  0.500000\n"
     ]
    }
   ],
   "source": [
    "import pandas as pd\n",
    "import category_encoders as ce\n",
    "\n",
    "# Tạo dữ liệu ví dụ\n",
    "df = pd.DataFrame({\n",
    "    'color': ['red', 'blue', 'green', 'blue', 'green', 'red'],\n",
    "    'target': [1, 0, 1, 0, 1, 0]\n",
    "})\n",
    "\n",
    "# Khởi tạo và áp dụng Target Encoder\n",
    "encoder = ce.TargetEncoder()\n",
    "df_encoded = encoder.fit_transform(df['color'], df['target'])\n",
    "\n",
    "print(df_encoded)"
   ]
  },
  {
   "cell_type": "markdown",
   "metadata": {},
   "source": [
    "### `Bayesian Mean Target Encoding`: Tính toán lại Target Encoding dựa trên bình quân trọng số\n",
    "\n",
    "Là một kỹ thuật mã hóa đặc trưng (feature encoding) trong học máy, đặc biệt hữu ích khi làm việc với các biến phân loại (categorical variables). Đây là một phương pháp để thay thế các giá trị phân loại bằng các giá trị số để mô hình học máy có thể xử lý hiệu quả hơn. Phương pháp này kết hợp giữa thông tin của các lớp trong biến phân loại và thông tin về mục tiêu (target) để tạo ra các giá trị mã hóa."
   ]
  },
  {
   "cell_type": "code",
   "execution_count": null,
   "metadata": {},
   "outputs": [],
   "source": []
  },
  {
   "cell_type": "markdown",
   "metadata": {},
   "source": [
    "### `K-Fold Target Encoding`: "
   ]
  },
  {
   "cell_type": "code",
   "execution_count": null,
   "metadata": {},
   "outputs": [],
   "source": []
  },
  {
   "cell_type": "markdown",
   "metadata": {},
   "source": [
    "### `OrdinalEncoder`: Dùng để mã hóa các biến phân loại theo thứ tự."
   ]
  },
  {
   "cell_type": "code",
   "execution_count": 10,
   "metadata": {},
   "outputs": [
    {
     "name": "stdout",
     "output_type": "stream",
     "text": [
      "[[1.]\n",
      " [2.]\n",
      " [0.]]\n"
     ]
    }
   ],
   "source": [
    "from sklearn.preprocessing import OrdinalEncoder\n",
    "\n",
    "encoder = OrdinalEncoder()\n",
    "categories = [['low'], ['medium'], ['high']]\n",
    "encoded_categories = encoder.fit_transform(categories)\n",
    "print(encoded_categories)"
   ]
  },
  {
   "cell_type": "markdown",
   "metadata": {},
   "source": [
    "### `BinaryEncoder` (thường được sử dụng thông qua thư viện category_encoders):"
   ]
  },
  {
   "cell_type": "code",
   "execution_count": 15,
   "metadata": {},
   "outputs": [
    {
     "name": "stdout",
     "output_type": "stream",
     "text": [
      "   color_0  color_1\n",
      "0        0        1\n",
      "1        1        0\n",
      "2        1        1\n",
      "3        1        1\n",
      "4        1        1\n"
     ]
    }
   ],
   "source": [
    "import category_encoders as ce\n",
    "import pandas as pd\n",
    "\n",
    "encoder = ce.BinaryEncoder()\n",
    "df = pd.DataFrame({'color': ['red', 'blue', 'green', 'green', 'green']})\n",
    "encoded_df = encoder.fit_transform(df['color'])\n",
    "print(encoded_df)\n",
    "# Output might look like:\n",
    "#    color_0  color_1  color_2\n",
    "# 0        1        0        0\n",
    "# 1        0        1        0\n",
    "# 2        0        0        1\n"
   ]
  },
  {
   "cell_type": "markdown",
   "metadata": {},
   "source": []
  }
 ],
 "metadata": {
  "kernelspec": {
   "display_name": "Python 3",
   "language": "python",
   "name": "python3"
  },
  "language_info": {
   "codemirror_mode": {
    "name": "ipython",
    "version": 3
   },
   "file_extension": ".py",
   "mimetype": "text/x-python",
   "name": "python",
   "nbconvert_exporter": "python",
   "pygments_lexer": "ipython3",
   "version": "3.11.7"
  }
 },
 "nbformat": 4,
 "nbformat_minor": 2
}
