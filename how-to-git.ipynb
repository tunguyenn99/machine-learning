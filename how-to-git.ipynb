{
 "cells": [
  {
   "cell_type": "markdown",
   "metadata": {},
   "source": [
    "# ABOUT GIT"
   ]
  },
  {
   "cell_type": "markdown",
   "metadata": {},
   "source": [
    "<img src=\"https://xuanthulab.net/photo/basic-remote-workflow.png\" alt=\"Basic Remote Workflow\" width=\"500\" height=\"400\">"
   ]
  },
  {
   "cell_type": "markdown",
   "metadata": {},
   "source": [
    "## Git gồm 02 thành phần chính\n",
    "#### <b> 1. Repository Cục Bộ (Local Repository) </b>\n",
    "\n",
    "<b> a. Khu Vực Làm Việc (Working Area) </b>: \n",
    "- Đây là nơi bạn chỉnh sửa, thêm mới và xóa các file.\n",
    "\n",
    "<b> b. Khu Vực Staging (Staging Area hoặc Index): </b>\n",
    "- Khu vực này dùng để chuẩn bị các thay đổi trước khi commit.\n",
    "- Cho phép bạn xem xét và tổ chức các thay đổi trước khi lưu vào repository.\n",
    "\n",
    "<b> c. Repository Cục Bộ (Local Repository) </b>\n",
    "- Lưu trữ các phiên bản đã commit của dự án.\n",
    "- Tất cả các commit được lưu trữ cục bộ trên máy tính của bạn.\n",
    "\n",
    "#### <b> 2. Repository Xa (Remote Repository) </b>\n",
    "\n",
    "- Là một bản sao của repository trên một máy chủ từ xa (ví dụ như GitHub, GitLab, Bitbucket).\n",
    "- Hỗ trợ việc hợp tác, chia sẻ và quản lý mã nguồn giữa các thành viên trong nhóm."
   ]
  },
  {
   "cell_type": "markdown",
   "metadata": {},
   "source": [
    "## Làm việc cùng GIT"
   ]
  },
  {
   "cell_type": "markdown",
   "metadata": {},
   "source": [
    "### 1. Khởi tạo repository:"
   ]
  },
  {
   "cell_type": "markdown",
   "metadata": {},
   "source": [
    "- `git --version` hoặc `git -v`: Kiểm tra version của Git trên local\n",
    "\n",
    "- `git init`: Tạo 1 repo mới trên local"
   ]
  },
  {
   "cell_type": "markdown",
   "metadata": {},
   "source": [
    "### 2. Hoạt động cơ bản với các file và thay đổi trong file:"
   ]
  },
  {
   "cell_type": "markdown",
   "metadata": {
    "vscode": {
     "languageId": "plaintext"
    }
   },
   "source": [
    "- `git add <tên_file>`: Đưa file từ khu vực làm việc vào khu vực staging.\n",
    "\n",
    "- `git add .` hoặc `git add --all`: Đưa tất cả các file thay đổi từ khu vực làm việc vào khu vực staging.\n",
    "\n",
    "- `git status`: Kiểm tra trạng thái của các file trong repository (working directory, staging area, committed).\n",
    "\n",
    "- `git diff`: Xem các thay đổi chưa được staged.\n",
    "\n",
    "- `git commit -m \"message\"`: Lưu trạng thái của các file từ staging area vào local repository với message mô tả.\n",
    "\n",
    "- `git commit --amend -a`: Thay đổi commit (trong trường hợp commit quá nhỏ) ~> Sau đó ấn A để edit ~> edit xong ấn esc và :wq (write + quit)\n",
    "\n",
    "- `git log`: Kiểm tra log của các commit\n",
    "\n",
    "- `git restore --staged <tên file>`: Đưa lại file từ staging area về working area\n",
    "\n",
    "- `git restore <tên file>`: Chuyển file cụ thể từ staging về working\n",
    "\n",
    "- `git merge --abort`: Bỏ trạng thái merge trong staging\n",
    "\n",
    "- `git reset`: Chuyển toàn bộ staging về working area\n",
    "\n",
    "- `git reset --hard HEAD`: Bỏ mọi thứ, trả lại trạng thái commit cuối cùng (bỏ mọi staging chưa được commit)"
   ]
  },
  {
   "cell_type": "markdown",
   "metadata": {},
   "source": [
    "Lỡ tay xóa `index.py`\n",
    "```bash\n",
    "git rm index.py\n",
    "git reset\n",
    "git restore index.py\n",
    "git status\n",
    "```"
   ]
  },
  {
   "cell_type": "markdown",
   "metadata": {},
   "source": [
    "Xóa `index.py` trên cả local cả remote repo\n",
    "```bash\n",
    "git rm index.py\n",
    "git commit -m \"Remove index.py from repository\"\n",
    "git push origin main"
   ]
  },
  {
   "cell_type": "markdown",
   "metadata": {},
   "source": [
    "Xóa `index.py` trên remote repo chứ không xóa trên local\n",
    "```bash\n",
    "git rm --cached index.py\n",
    "git commit -m \"Remove index.py from repository\"\n",
    "git push origin main"
   ]
  },
  {
   "cell_type": "markdown",
   "metadata": {},
   "source": [
    "Xóa `toàn bộ file` trong remote nhưng không xóa trên local 1 cách đệ quy:\n",
    "```bash\n",
    "git rm -r --cached . #tùy chọn -r để xóa các file và thư mục một cách đệ quy\n",
    "git commit -m \"Remove all files from staging area\"\n",
    "git push origin main\n",
    "```\n"
   ]
  },
  {
   "cell_type": "markdown",
   "metadata": {},
   "source": [
    "### 3. Lịch sử và quản lý Commit:"
   ]
  },
  {
   "cell_type": "markdown",
   "metadata": {},
   "source": [
    "- `git log`: Xem lịch sử các commit.\n",
    "\n",
    "- `git log --oneline`: Xem lịch sử các commit trên 1 dòng\n",
    "\n",
    "- `git show <mã_commit>`: Xem chi tiết về một commit cụ thể.\n",
    "\n",
    "- `git reset <mã_commit>`: Đặt lại trạng thái của repository về một commit cụ thể.\n",
    "\n",
    "- `git revert <mã_commit>`: Tạo một commit mới để đảo ngược các thay đổi của một commit đã tồn tại."
   ]
  },
  {
   "cell_type": "markdown",
   "metadata": {
    "vscode": {
     "languageId": "plaintext"
    }
   },
   "source": [
    "### 4. Branch và Merge:  \n",
    "Video: [https://www.youtube.com/watch?v=O5uT6p6VWjY]\n",
    "  \n",
    "Demo branching: [https://learngitbranching.js.org/]"
   ]
  },
  {
   "cell_type": "markdown",
   "metadata": {},
   "source": [
    "<img src=\"https://www.atatus.com/blog/content/images/2021/06/git-branch-workflow-2.png\"  alt=\"Basic Remote Workflow\" width=\"600\" height=\"300\">"
   ]
  },
  {
   "cell_type": "markdown",
   "metadata": {
    "vscode": {
     "languageId": "plaintext"
    }
   },
   "source": [
    "- `git branch`: Liệt kê tất cả các branch trong repository.\n",
    "\n",
    "- `git branch <tên_branch>`: Tạo một branch mới.\n",
    "\n",
    "- `git checkout <tên_branch>`: Chuyển đổi giữa các branch.\n",
    "\n",
    "- `git merge <tên_branch>`: Merge branch hiện tại với branch khác.\n",
    "\n",
    "- `git branch -d <tên_branch>`: Xóa một branch sau khi đã hoàn thành công việc."
   ]
  },
  {
   "cell_type": "markdown",
   "metadata": {},
   "source": [
    "Ví dụ:\n",
    "- `git branch B1`: Tạo branch B1\n",
    "\n",
    "- `git checkout B1`: Chuyển từ master/main sang B1\n",
    "\n",
    "- `git branch C1 B1`: Tạo branch C1 từ branch B1\n",
    "\n",
    "- `git checkout -b B3`: Tạo branch B3 và chuyển luôn sang B3\n",
    "\n",
    "- `git checkout master`: Quay về master\n",
    "\n",
    "- `git merge B1 --no-ff`: Merge không fast forwarding"
   ]
  },
  {
   "cell_type": "markdown",
   "metadata": {},
   "source": [
    "### 5. Làm việc với Remote Repository (Github, Gitlab ...):"
   ]
  },
  {
   "cell_type": "markdown",
   "metadata": {},
   "source": [
    "- `git remote add origin <url>`: Liên kết repository cục bộ với repository trên server từ xa. (đây mới chỉ kết nối repo local với repo remote. Bản chất origin là nơi đồng bộ của remote nên có thể được đặt tên khác)\n",
    "\n",
    "- `git push -u origin <tên_branch>`: Đẩy các thay đổi từ branch cục bộ lên branch trên repository từ xa. (-u là viết tắt của --set-upstream)\n",
    "\n",
    "- `git push --force`: Nếu push từ local lên remote mà version của local < version của remote thì phải sử dụng --force để cho phép overwrite lịch sử (Vì là ghi đè lịch sử, không nên sử dụng)\n",
    "\n",
    "- `git pull origin <tên_branch>`: Lấy và hợp nhất các thay đổi từ repository từ xa vào branch cục bộ."
   ]
  },
  {
   "cell_type": "markdown",
   "metadata": {},
   "source": [
    "Cách push lên remote repo với các branch khác nhau:   \n",
    "``` bash\n",
    "git checkout main\n",
    "git checkout -b ten-branch-moi\n",
    "git push origin ten-branch-moi\n",
    "git push origin branch-local:branch-remote ~> Đổi từ branch-local thành branch-remote, nếu chưa tồn tại thì git tự tạo branch-remote\n",
    "```"
   ]
  },
  {
   "cell_type": "markdown",
   "metadata": {},
   "source": [
    "### 6. Quản lý Repository:"
   ]
  },
  {
   "cell_type": "markdown",
   "metadata": {
    "vscode": {
     "languageId": "plaintext"
    }
   },
   "source": [
    "- `git clone <url>`: Sao chép một repository từ xa về local.\n",
    "\n",
    "- `git remote -v`: Kiểm tra các remote repository đã cấu hình.\n",
    "\n",
    "- `git rm <tên_file>`: Xóa một file khỏi repository và khu vực- làm việc.\n",
    "\n",
    "- `git mv <tên_file_cũ> <tên_file_mới>`: Di chuyển hoặc đổi tên một file trong repository."
   ]
  },
  {
   "cell_type": "markdown",
   "metadata": {},
   "source": [
    "Hướng làm việc: \n",
    "- Tạo repo trên Remote có tên `repo-demo`\n",
    "\n",
    "- git clone <url của `repo-demo`> để tạo 1 thư mục trên local\n",
    "\n",
    "- cd path/to/`repo-demo` trên local\n",
    "\n",
    "- cp/mv path/to/`file-can-push` . # cp = copy; mv = move; . = lấy file\n",
    "\n",
    "- `git add file-can-push`\n",
    "\n",
    "- `git commit -m \"message\"`\n",
    "\n",
    "- `git remote add <ten-origin> <url-repo-remote>`\n",
    "\n",
    "- `git push <ten-origin> <main>`"
   ]
  },
  {
   "cell_type": "markdown",
   "metadata": {},
   "source": [
    "### 7. Stash và làm việc cùng stash:  \n",
    "Stash trong Git là một cơ chế cho phép bạn tạm thời lưu trữ các thay đổi chưa được commit. Điều này cho phép bạn có thể chuyển đổi giữa các nhánh, áp dụng các bản vá, hoặc làm sạch vài sạch sẽ mà không cần phải commit các thay đổi hoặc lo lắng về việc mất dữ liệu."
   ]
  },
  {
   "cell_type": "markdown",
   "metadata": {},
   "source": [
    "- `git stash`: Lưu các thay đổi vào phân vùng stash\n",
    "\n",
    "- `git stash list`: Danh sách các thay đổi, có định dạng stash@{0}\n",
    "\n",
    "- `git stash apply stash@{2}`: Áp dụng stash có số thứ tự {2}\n",
    "\n",
    "- `git stash pop stash@{2}`: Áp dụng và xóa stash@{2}\n",
    "\n",
    "- `git stash drop stash@{2}`: Xóa stash@{2}\n",
    "\n",
    "- `git stash apply`: Áp dụng stash đầu tiên trong list\n",
    "\n",
    "- `git stash drop -all`: Xóa toàn bộ stash"
   ]
  },
  {
   "cell_type": "markdown",
   "metadata": {},
   "source": [
    "### <b> Demo sẵn của GIT khi tạo repo </b>"
   ]
  },
  {
   "cell_type": "markdown",
   "metadata": {},
   "source": [
    "…or create a new repository on the command line\n",
    "``` bash\n",
    "echo \"# demogit\" >> README.md\n",
    "git init\n",
    "git add README.md\n",
    "git commit -m \"first commit\"\n",
    "git branch -M main\n",
    "git remote add origin https://github.com/tunguyenn99/demogit.git\n",
    "git push -u origin main"
   ]
  },
  {
   "cell_type": "markdown",
   "metadata": {
    "vscode": {
     "languageId": "plaintext"
    }
   },
   "source": [
    "…or push an existing repository from the command line\n",
    "```bash\n",
    "git remote add origin https://github.com/tunguyenn99/demogit.git\n",
    "git branch -M main\n",
    "git push -u origin main"
   ]
  }
 ],
 "metadata": {
  "language_info": {
   "name": "python"
  }
 },
 "nbformat": 4,
 "nbformat_minor": 2
}
